{
 "cells": [
  {
   "cell_type": "markdown",
   "id": "e519a7c1-004a-497c-a124-8e1364df4b73",
   "metadata": {},
   "source": [
    "# PyInstaller"
   ]
  },
  {
   "cell_type": "markdown",
   "id": "c20508a4-384a-42e2-8953-5e2d06e22a39",
   "metadata": {},
   "source": [
    "#### NB! It is assumed that you have [pycdc](https://github.com/zrax/pycdc) installed, and stored in ../../pycdc"
   ]
  },
  {
   "cell_type": "code",
   "execution_count": 1,
   "id": "a1947570-641e-4493-b5d5-624dd27fb564",
   "metadata": {},
   "outputs": [],
   "source": [
    "%load_ext autoreload\n",
    "%autoreload 2"
   ]
  },
  {
   "cell_type": "code",
   "execution_count": 2,
   "id": "294021c5-fa09-4335-98ea-ef121f618b97",
   "metadata": {},
   "outputs": [],
   "source": [
    "import os"
   ]
  },
  {
   "cell_type": "code",
   "execution_count": 3,
   "id": "d56ef756-4802-4473-b938-2ded2ba15a9a",
   "metadata": {},
   "outputs": [],
   "source": [
    "os.chdir(\"..\")"
   ]
  },
  {
   "cell_type": "markdown",
   "id": "c5620ab0-aa9e-49a8-8c20-1056d92a3c45",
   "metadata": {},
   "source": [
    "## Creating an executable"
   ]
  },
  {
   "cell_type": "code",
   "execution_count": 4,
   "id": "e3a43849-aac7-4c71-b589-9210679974ff",
   "metadata": {
    "scrolled": true
   },
   "outputs": [
    {
     "name": "stdout",
     "output_type": "stream",
     "text": [
      "241 INFO: PyInstaller: 6.8.0, contrib hooks: 2024.9\n",
      "241 INFO: Python: 3.10.3\n",
      "253 INFO: Platform: macOS-14.5-x86_64-i386-64bit\n",
      "254 INFO: Python environment: /Users/elias/Library/Caches/pypoetry/virtualenvs/obfuls2-I2hK0gus-py3.10\n",
      "254 INFO: wrote /Users/elias/simula/obfuls2/main.spec\n",
      "261 INFO: Module search paths (PYTHONPATH):\n",
      "['/Users/elias/.pyenv/versions/3.10.3/Library/Frameworks/Python.framework/Versions/3.10/lib/python310.zip',\n",
      " '/Users/elias/.pyenv/versions/3.10.3/Library/Frameworks/Python.framework/Versions/3.10/lib/python3.10',\n",
      " '/Users/elias/.pyenv/versions/3.10.3/Library/Frameworks/Python.framework/Versions/3.10/lib/python3.10/lib-dynload',\n",
      " '/Users/elias/Library/Caches/pypoetry/virtualenvs/obfuls2-I2hK0gus-py3.10/lib/python3.10/site-packages',\n",
      " '/Users/elias/simula/obfuls2',\n",
      " '/Users/elias/Library/Caches/pypoetry/virtualenvs/obfuls2-I2hK0gus-py3.10/lib/python3.10/site-packages/setuptools/_vendor',\n",
      " '/Users/elias/simula/obfuls2']\n",
      "391 INFO: checking Analysis\n",
      "391 INFO: Building Analysis because Analysis-00.toc is non existent\n",
      "391 INFO: Running Analysis Analysis-00.toc\n",
      "391 INFO: Target bytecode optimization level: 0\n",
      "391 INFO: Initializing module dependency graph...\n",
      "392 INFO: Caching module graph hooks...\n",
      "415 INFO: Analyzing base_library.zip ...\n",
      "1054 INFO: Loading module hook 'hook-heapq.py' from '/Users/elias/Library/Caches/pypoetry/virtualenvs/obfuls2-I2hK0gus-py3.10/lib/python3.10/site-packages/PyInstaller/hooks'...\n",
      "1137 INFO: Loading module hook 'hook-encodings.py' from '/Users/elias/Library/Caches/pypoetry/virtualenvs/obfuls2-I2hK0gus-py3.10/lib/python3.10/site-packages/PyInstaller/hooks'...\n",
      "2473 INFO: Loading module hook 'hook-pickle.py' from '/Users/elias/Library/Caches/pypoetry/virtualenvs/obfuls2-I2hK0gus-py3.10/lib/python3.10/site-packages/PyInstaller/hooks'...\n",
      "3728 INFO: Caching module dependency graph...\n",
      "3830 INFO: Looking for Python shared library...\n",
      "3833 INFO: Using Python shared library: /Users/elias/.pyenv/versions/3.10.3/Library/Frameworks/Python.framework/Versions/3.10/Python\n",
      "3833 INFO: Analyzing /Users/elias/simula/obfuls2/main.py\n",
      "4175 INFO: Loading module hook 'hook-difflib.py' from '/Users/elias/Library/Caches/pypoetry/virtualenvs/obfuls2-I2hK0gus-py3.10/lib/python3.10/site-packages/PyInstaller/hooks'...\n",
      "4215 INFO: Loading module hook 'hook-platform.py' from '/Users/elias/Library/Caches/pypoetry/virtualenvs/obfuls2-I2hK0gus-py3.10/lib/python3.10/site-packages/PyInstaller/hooks'...\n",
      "4267 INFO: Loading module hook 'hook-xml.py' from '/Users/elias/Library/Caches/pypoetry/virtualenvs/obfuls2-I2hK0gus-py3.10/lib/python3.10/site-packages/PyInstaller/hooks'...\n",
      "4395 INFO: Loading module hook 'hook-importlib_metadata.py' from '/Users/elias/Library/Caches/pypoetry/virtualenvs/obfuls2-I2hK0gus-py3.10/lib/python3.10/site-packages/PyInstaller/hooks'...\n",
      "4875 INFO: Loading module hook 'hook-pygments.py' from '/Users/elias/Library/Caches/pypoetry/virtualenvs/obfuls2-I2hK0gus-py3.10/lib/python3.10/site-packages/PyInstaller/hooks'...\n",
      "6095 INFO: Loading module hook 'hook-IPython.py' from '/Users/elias/Library/Caches/pypoetry/virtualenvs/obfuls2-I2hK0gus-py3.10/lib/python3.10/site-packages/_pyinstaller_hooks_contrib/stdhooks'...\n",
      "8057 INFO: Loading module hook 'hook-xml.dom.domreg.py' from '/Users/elias/Library/Caches/pypoetry/virtualenvs/obfuls2-I2hK0gus-py3.10/lib/python3.10/site-packages/PyInstaller/hooks'...\n",
      "8512 INFO: Loading module hook 'hook-multiprocessing.util.py' from '/Users/elias/Library/Caches/pypoetry/virtualenvs/obfuls2-I2hK0gus-py3.10/lib/python3.10/site-packages/PyInstaller/hooks'...\n",
      "9424 INFO: Loading module hook 'hook-sysconfig.py' from '/Users/elias/Library/Caches/pypoetry/virtualenvs/obfuls2-I2hK0gus-py3.10/lib/python3.10/site-packages/PyInstaller/hooks'...\n",
      "9599 INFO: Processing pre-safe import module hook six.moves from '/Users/elias/Library/Caches/pypoetry/virtualenvs/obfuls2-I2hK0gus-py3.10/lib/python3.10/site-packages/PyInstaller/hooks/pre_safe_import_module/hook-six.moves.py'.\n",
      "10347 INFO: Loading module hook 'hook-wcwidth.py' from '/Users/elias/Library/Caches/pypoetry/virtualenvs/obfuls2-I2hK0gus-py3.10/lib/python3.10/site-packages/PyInstaller/hooks'...\n",
      "11484 INFO: Loading module hook 'hook-jedi.py' from '/Users/elias/Library/Caches/pypoetry/virtualenvs/obfuls2-I2hK0gus-py3.10/lib/python3.10/site-packages/_pyinstaller_hooks_contrib/stdhooks'...\n",
      "12302 INFO: Loading module hook 'hook-parso.py' from '/Users/elias/Library/Caches/pypoetry/virtualenvs/obfuls2-I2hK0gus-py3.10/lib/python3.10/site-packages/_pyinstaller_hooks_contrib/stdhooks'...\n",
      "13427 INFO: Loading module hook 'hook-pkg_resources.py' from '/Users/elias/Library/Caches/pypoetry/virtualenvs/obfuls2-I2hK0gus-py3.10/lib/python3.10/site-packages/PyInstaller/hooks'...\n",
      "14231 INFO: Loading module hook 'hook-packaging.py' from '/Users/elias/Library/Caches/pypoetry/virtualenvs/obfuls2-I2hK0gus-py3.10/lib/python3.10/site-packages/PyInstaller/hooks'...\n",
      "14339 INFO: Loading module hook 'hook-jaraco.text.py' from '/Users/elias/Library/Caches/pypoetry/virtualenvs/obfuls2-I2hK0gus-py3.10/lib/python3.10/site-packages/_pyinstaller_hooks_contrib/stdhooks'...\n",
      "14495 INFO: Loading module hook 'hook-importlib_resources.py' from '/Users/elias/Library/Caches/pypoetry/virtualenvs/obfuls2-I2hK0gus-py3.10/lib/python3.10/site-packages/PyInstaller/hooks'...\n",
      "14816 INFO: Loading module hook 'hook-backports.py' from '/Users/elias/Library/Caches/pypoetry/virtualenvs/obfuls2-I2hK0gus-py3.10/lib/python3.10/site-packages/_pyinstaller_hooks_contrib/stdhooks'...\n",
      "14837 INFO: Loading module hook 'hook-platformdirs.py' from '/Users/elias/Library/Caches/pypoetry/virtualenvs/obfuls2-I2hK0gus-py3.10/lib/python3.10/site-packages/_pyinstaller_hooks_contrib/stdhooks'...\n",
      "15147 INFO: Loading module hook 'hook-sqlite3.py' from '/Users/elias/Library/Caches/pypoetry/virtualenvs/obfuls2-I2hK0gus-py3.10/lib/python3.10/site-packages/PyInstaller/hooks'...\n",
      "15481 INFO: Loading module hook 'hook-nbformat.py' from '/Users/elias/Library/Caches/pypoetry/virtualenvs/obfuls2-I2hK0gus-py3.10/lib/python3.10/site-packages/_pyinstaller_hooks_contrib/stdhooks'...\n",
      "15671 INFO: Loading module hook 'hook-jsonschema.py' from '/Users/elias/Library/Caches/pypoetry/virtualenvs/obfuls2-I2hK0gus-py3.10/lib/python3.10/site-packages/_pyinstaller_hooks_contrib/stdhooks'...\n",
      "17036 INFO: Loading module hook 'hook-jsonschema_specifications.py' from '/Users/elias/Library/Caches/pypoetry/virtualenvs/obfuls2-I2hK0gus-py3.10/lib/python3.10/site-packages/_pyinstaller_hooks_contrib/stdhooks'...\n",
      "17528 INFO: Loading module hook 'hook-charset_normalizer.py' from '/Users/elias/Library/Caches/pypoetry/virtualenvs/obfuls2-I2hK0gus-py3.10/lib/python3.10/site-packages/_pyinstaller_hooks_contrib/stdhooks'...\n",
      "17711 INFO: Loading module hook 'hook-certifi.py' from '/Users/elias/Library/Caches/pypoetry/virtualenvs/obfuls2-I2hK0gus-py3.10/lib/python3.10/site-packages/_pyinstaller_hooks_contrib/stdhooks'...\n",
      "18124 INFO: Loading module hook 'hook-zmq.py' from '/Users/elias/Library/Caches/pypoetry/virtualenvs/obfuls2-I2hK0gus-py3.10/lib/python3.10/site-packages/_pyinstaller_hooks_contrib/stdhooks'...\n",
      "18618 INFO: Loading module hook 'hook-pycparser.py' from '/Users/elias/Library/Caches/pypoetry/virtualenvs/obfuls2-I2hK0gus-py3.10/lib/python3.10/site-packages/_pyinstaller_hooks_contrib/stdhooks'...\n",
      "19143 INFO: Loading module hook 'hook-setuptools.py' from '/Users/elias/Library/Caches/pypoetry/virtualenvs/obfuls2-I2hK0gus-py3.10/lib/python3.10/site-packages/PyInstaller/hooks'...\n",
      "22939 INFO: Processing pre-safe import module hook distutils from '/Users/elias/Library/Caches/pypoetry/virtualenvs/obfuls2-I2hK0gus-py3.10/lib/python3.10/site-packages/PyInstaller/hooks/pre_safe_import_module/hook-distutils.py'.\n",
      "22940 INFO: Processing pre-find module path hook distutils from '/Users/elias/Library/Caches/pypoetry/virtualenvs/obfuls2-I2hK0gus-py3.10/lib/python3.10/site-packages/PyInstaller/hooks/pre_find_module_path/hook-distutils.py'.\n",
      "23224 INFO: Loading module hook 'hook-distutils.py' from '/Users/elias/Library/Caches/pypoetry/virtualenvs/obfuls2-I2hK0gus-py3.10/lib/python3.10/site-packages/PyInstaller/hooks'...\n",
      "23252 INFO: Loading module hook 'hook-distutils.util.py' from '/Users/elias/Library/Caches/pypoetry/virtualenvs/obfuls2-I2hK0gus-py3.10/lib/python3.10/site-packages/PyInstaller/hooks'...\n",
      "25279 INFO: Loading module hook 'hook-psutil.py' from '/Users/elias/Library/Caches/pypoetry/virtualenvs/obfuls2-I2hK0gus-py3.10/lib/python3.10/site-packages/_pyinstaller_hooks_contrib/stdhooks'...\n",
      "25820 INFO: Loading module hook 'hook-_tkinter.py' from '/Users/elias/Library/Caches/pypoetry/virtualenvs/obfuls2-I2hK0gus-py3.10/lib/python3.10/site-packages/PyInstaller/hooks'...\n",
      "25837 INFO: Processing pre-safe import module hook gi from '/Users/elias/Library/Caches/pypoetry/virtualenvs/obfuls2-I2hK0gus-py3.10/lib/python3.10/site-packages/PyInstaller/hooks/pre_safe_import_module/hook-gi.py'.\n",
      "26407 INFO: Processing module hooks...\n",
      "26446 WARNING: Hidden import \"pkg_resources._vendor.jaraco.functools\" not found!\n",
      "26446 WARNING: Hidden import \"pkg_resources._vendor.jaraco.context\" not found!\n",
      "26447 WARNING: Hidden import \"pkg_resources._vendor.jaraco.text\" not found!\n",
      "26447 WARNING: Hidden import \"pkg_resources.extern\" not found!\n",
      "26447 INFO: Loading module hook 'hook-_tkinter.py' from '/Users/elias/Library/Caches/pypoetry/virtualenvs/obfuls2-I2hK0gus-py3.10/lib/python3.10/site-packages/PyInstaller/hooks'...\n",
      "26448 INFO: Not collecting Tcl/Tk data - either python is using macOS' system Tcl/Tk framework, or Tcl/Tk data directories could not be found.\n",
      "26477 INFO: Loading module hook 'hook-setuptools.msvc.py' from '/Users/elias/Library/Caches/pypoetry/virtualenvs/obfuls2-I2hK0gus-py3.10/lib/python3.10/site-packages/PyInstaller/hooks'...\n",
      "27990 INFO: Loading module hook 'hook-setuptools._distutils.command.check.py' from '/Users/elias/Library/Caches/pypoetry/virtualenvs/obfuls2-I2hK0gus-py3.10/lib/python3.10/site-packages/PyInstaller/hooks'...\n",
      "28248 INFO: Loading module hook 'hook-distutils.command.check.py' from '/Users/elias/Library/Caches/pypoetry/virtualenvs/obfuls2-I2hK0gus-py3.10/lib/python3.10/site-packages/PyInstaller/hooks'...\n",
      "28565 WARNING: Hidden import \"importlib_resources.trees\" not found!\n",
      "30885 INFO: Performing binary vs. data reclassification (1863 entries)\n",
      "31257 INFO: Looking for ctypes DLLs\n",
      "31277 WARNING: Library user32 required via ctypes not found\n",
      "31318 INFO: Analyzing run-time hooks ...\n",
      "31329 INFO: Including run-time hook '/Users/elias/Library/Caches/pypoetry/virtualenvs/obfuls2-I2hK0gus-py3.10/lib/python3.10/site-packages/PyInstaller/hooks/rthooks/pyi_rth_inspect.py'\n",
      "31332 INFO: Including run-time hook '/Users/elias/Library/Caches/pypoetry/virtualenvs/obfuls2-I2hK0gus-py3.10/lib/python3.10/site-packages/PyInstaller/hooks/rthooks/pyi_rth_pkgutil.py'\n",
      "31336 INFO: Processing pre-find module path hook _pyi_rth_utils from '/Users/elias/Library/Caches/pypoetry/virtualenvs/obfuls2-I2hK0gus-py3.10/lib/python3.10/site-packages/PyInstaller/hooks/pre_find_module_path/hook-_pyi_rth_utils.py'.\n",
      "31338 INFO: Loading module hook 'hook-_pyi_rth_utils.py' from '/Users/elias/Library/Caches/pypoetry/virtualenvs/obfuls2-I2hK0gus-py3.10/lib/python3.10/site-packages/PyInstaller/hooks'...\n",
      "31339 INFO: Including run-time hook '/Users/elias/Library/Caches/pypoetry/virtualenvs/obfuls2-I2hK0gus-py3.10/lib/python3.10/site-packages/PyInstaller/hooks/rthooks/pyi_rth_multiprocessing.py'\n",
      "31342 INFO: Including run-time hook '/Users/elias/Library/Caches/pypoetry/virtualenvs/obfuls2-I2hK0gus-py3.10/lib/python3.10/site-packages/PyInstaller/hooks/rthooks/pyi_rth_pkgres.py'\n",
      "31346 INFO: Including run-time hook '/Users/elias/Library/Caches/pypoetry/virtualenvs/obfuls2-I2hK0gus-py3.10/lib/python3.10/site-packages/PyInstaller/hooks/rthooks/pyi_rth__tkinter.py'\n",
      "31348 INFO: Including run-time hook '/Users/elias/Library/Caches/pypoetry/virtualenvs/obfuls2-I2hK0gus-py3.10/lib/python3.10/site-packages/PyInstaller/hooks/rthooks/pyi_rth_setuptools.py'\n",
      "31351 INFO: Including run-time hook '/Users/elias/Library/Caches/pypoetry/virtualenvs/obfuls2-I2hK0gus-py3.10/lib/python3.10/site-packages/_pyinstaller_hooks_contrib/rthooks/pyi_rth_traitlets.py'\n",
      "31463 INFO: Looking for dynamic libraries\n",
      "31731 INFO: Warnings written to /Users/elias/simula/obfuls2/build/main/warn-main.txt\n",
      "31890 INFO: Graph cross-reference written to /Users/elias/simula/obfuls2/build/main/xref-main.html\n",
      "32116 INFO: checking PYZ\n",
      "32117 INFO: Building PYZ because PYZ-00.toc is non existent\n",
      "32117 INFO: Building PYZ (ZlibArchive) /Users/elias/simula/obfuls2/build/main/PYZ-00.pyz\n",
      "33702 INFO: Building PYZ (ZlibArchive) /Users/elias/simula/obfuls2/build/main/PYZ-00.pyz completed successfully.\n",
      "33762 INFO: EXE target arch: x86_64\n",
      "33762 INFO: Code signing identity: None\n",
      "33808 INFO: checking PKG\n",
      "33808 INFO: Building PKG because PKG-00.toc is non existent\n",
      "33808 INFO: Building PKG (CArchive) main.pkg\n",
      "38861 INFO: Building PKG (CArchive) main.pkg completed successfully.\n",
      "38941 INFO: Bootloader /Users/elias/Library/Caches/pypoetry/virtualenvs/obfuls2-I2hK0gus-py3.10/lib/python3.10/site-packages/PyInstaller/bootloader/Darwin-64bit/run\n",
      "38941 INFO: checking EXE\n",
      "38941 INFO: Building EXE because EXE-00.toc is non existent\n",
      "38941 INFO: Building EXE from EXE-00.toc\n",
      "38941 INFO: Copying bootloader EXE to /Users/elias/simula/obfuls2/dist/main\n",
      "38943 INFO: Converting EXE to target arch (x86_64)\n",
      "38997 INFO: Removing signature(s) from EXE\n",
      "39025 INFO: Appending PKG archive to EXE\n",
      "39042 INFO: Fixing EXE headers for code signing\n",
      "39049 INFO: Re-signing the EXE\n",
      "39176 INFO: Building EXE from EXE-00.toc completed successfully.\n"
     ]
    }
   ],
   "source": [
    "!pyinstaller --onefile main.py"
   ]
  },
  {
   "cell_type": "markdown",
   "id": "fb6ab44c-cd08-4ed6-9b2d-f84b161228a9",
   "metadata": {},
   "source": [
    "## Checking the output"
   ]
  },
  {
   "cell_type": "code",
   "execution_count": 5,
   "id": "45321613-0bb8-4f6e-9ce8-1732f4f13676",
   "metadata": {},
   "outputs": [
    {
     "name": "stdout",
     "output_type": "stream",
     "text": [
      "\u001b[1m\u001b[36m.\u001b[m\u001b[m    \u001b[1m\u001b[36m..\u001b[m\u001b[m   \u001b[31mmain\u001b[m\u001b[m\n"
     ]
    }
   ],
   "source": [
    "!ls -a dist"
   ]
  },
  {
   "cell_type": "code",
   "execution_count": 6,
   "id": "e036da13-1818-4eec-b1f4-11af25cfc47b",
   "metadata": {},
   "outputs": [
    {
     "name": "stdout",
     "output_type": "stream",
     "text": [
      "Calculated 10 prime numbers in 0.00 seconds\n",
      "The 10th prime was 29\n"
     ]
    }
   ],
   "source": [
    "!dist/main --n-primes=10"
   ]
  },
  {
   "cell_type": "code",
   "execution_count": 7,
   "id": "c6e6f81f-dbc1-4bc6-9c5d-d3c147e89725",
   "metadata": {},
   "outputs": [
    {
     "name": "stdout",
     "output_type": "stream",
     "text": [
      "   65511 dist/main\n"
     ]
    }
   ],
   "source": [
    "!wc -l dist/main"
   ]
  },
  {
   "cell_type": "code",
   "execution_count": 8,
   "id": "895db5ae-f5de-49c1-bcd2-82d49f9a4c25",
   "metadata": {},
   "outputs": [
    {
     "name": "stdout",
     "output_type": "stream",
     "text": [
      "Bad MAGIC!\n",
      "Could not load file dist/main\n"
     ]
    }
   ],
   "source": [
    "!../pycdc/pycdc dist/main"
   ]
  },
  {
   "cell_type": "markdown",
   "id": "9d4e7e36-b3b9-4c3d-8b0b-ac7b9ed73b65",
   "metadata": {},
   "source": [
    "## Hmmmm"
   ]
  },
  {
   "cell_type": "code",
   "execution_count": 9,
   "id": "b51e56d5-f996-44d0-9d58-4a7309727ed0",
   "metadata": {},
   "outputs": [
    {
     "name": "stdout",
     "output_type": "stream",
     "text": [
      "  % Total    % Received % Xferd  Average Speed   Time    Time     Time  Current\n",
      "                                 Dload  Upload   Total   Spent    Left  Speed\n",
      "100 17510  100 17510    0     0  71937      0 --:--:-- --:--:-- --:--:-- 72057\n"
     ]
    }
   ],
   "source": [
    "!curl -o pyinstxtractor.py https://raw.githubusercontent.com/extremecoders-re/pyinstxtractor/refs/heads/master/pyinstxtractor.py"
   ]
  },
  {
   "cell_type": "code",
   "execution_count": 10,
   "id": "33faf4c9-f00c-49fa-8da3-cbae0513d63c",
   "metadata": {},
   "outputs": [
    {
     "name": "stdout",
     "output_type": "stream",
     "text": [
      "[+] Processing dist/main\n",
      "[+] Pyinstaller version: 2.1+\n",
      "[+] Python version: 3.10\n",
      "[+] Length of package: 17263678 bytes\n",
      "[+] Found 1982 files in CArchive\n",
      "[+] Beginning extraction...please standby\n",
      "[+] Possible entry point: pyiboot01_bootstrap.pyc\n",
      "[+] Possible entry point: pyi_rth_inspect.pyc\n",
      "[+] Possible entry point: pyi_rth_pkgutil.pyc\n",
      "[+] Possible entry point: pyi_rth_multiprocessing.pyc\n",
      "[+] Possible entry point: pyi_rth_pkgres.pyc\n",
      "[+] Possible entry point: pyi_rth__tkinter.pyc\n",
      "[+] Possible entry point: pyi_rth_setuptools.pyc\n",
      "[+] Possible entry point: pyi_rth_traitlets.pyc\n",
      "[+] Possible entry point: main.pyc\n",
      "[+] Found 1989 files in PYZ archive\n",
      "[+] Successfully extracted pyinstaller archive: dist/main\n",
      "\n",
      "You can now use a python decompiler on the pyc files within the extracted directory\n"
     ]
    }
   ],
   "source": [
    "!python pyinstxtractor.py dist/main"
   ]
  },
  {
   "cell_type": "code",
   "execution_count": 11,
   "id": "216c4f90-d368-40d2-bd72-c81b14869e0e",
   "metadata": {},
   "outputs": [
    {
     "name": "stdout",
     "output_type": "stream",
     "text": [
      "\u001b[1m\u001b[36mIPython\u001b[m\u001b[m                             main.pyc\n",
      "PYZ-00.pyz                          \u001b[1m\u001b[36mnbformat\u001b[m\u001b[m\n",
      "\u001b[1m\u001b[36mPYZ-00.pyz_extracted\u001b[m\u001b[m                \u001b[1m\u001b[36mnbformat-5.10.4.dist-info\u001b[m\u001b[m\n",
      "Python                              \u001b[1m\u001b[36mparso\u001b[m\u001b[m\n",
      "\u001b[1m\u001b[36mPython.framework\u001b[m\u001b[m                    \u001b[1m\u001b[36mpsutil\u001b[m\u001b[m\n",
      "_cffi_backend.cpython-310-darwin.so pyi_rth__tkinter.pyc\n",
      "\u001b[1m\u001b[36mattrs-24.2.0.dist-info\u001b[m\u001b[m              pyi_rth_inspect.pyc\n",
      "base_library.zip                    pyi_rth_multiprocessing.pyc\n",
      "\u001b[1m\u001b[36mcertifi\u001b[m\u001b[m                             pyi_rth_pkgres.pyc\n",
      "\u001b[1m\u001b[36mcharset_normalizer\u001b[m\u001b[m                  pyi_rth_pkgutil.pyc\n",
      "\u001b[1m\u001b[36mimportlib_metadata-8.0.0.dist-info\u001b[m\u001b[m  pyi_rth_setuptools.pyc\n",
      "\u001b[1m\u001b[36mjaraco\u001b[m\u001b[m                              pyi_rth_traitlets.pyc\n",
      "\u001b[1m\u001b[36mjedi\u001b[m\u001b[m                                pyiboot01_bootstrap.pyc\n",
      "\u001b[1m\u001b[36mjsonschema\u001b[m\u001b[m                          pyimod01_archive.pyc\n",
      "\u001b[1m\u001b[36mjsonschema-4.23.0.dist-info\u001b[m\u001b[m         pyimod02_importers.pyc\n",
      "\u001b[1m\u001b[36mjsonschema_specifications\u001b[m\u001b[m           pyimod03_ctypes.pyc\n",
      "\u001b[1m\u001b[36mlib-dynload\u001b[m\u001b[m                         \u001b[1m\u001b[36mrpds\u001b[m\u001b[m\n",
      "libcrypto.1.1.dylib                 struct.pyc\n",
      "libintl.8.dylib                     \u001b[1m\u001b[36mtornado\u001b[m\u001b[m\n",
      "libncursesw.6.dylib                 \u001b[1m\u001b[36mtypeguard-4.3.0.dist-info\u001b[m\u001b[m\n",
      "libreadline.8.dylib                 \u001b[1m\u001b[36mwheel-0.44.0.dist-info\u001b[m\u001b[m\n",
      "libsodium.26.dylib                  \u001b[1m\u001b[36mzmq\u001b[m\u001b[m\n",
      "libssl.1.1.dylib                    \u001b[1m\u001b[36mzstandard\u001b[m\u001b[m\n",
      "libzmq.5.dylib\n"
     ]
    }
   ],
   "source": [
    "!ls main_extracted/"
   ]
  },
  {
   "cell_type": "code",
   "execution_count": 12,
   "id": "716223ca-b25f-48f9-860f-5cbfc52578bb",
   "metadata": {},
   "outputs": [
    {
     "name": "stdout",
     "output_type": "stream",
     "text": [
      "# Source Generated with Decompyle++\n",
      "# File: main.pyc (Python 3.10)\n",
      "\n",
      "import time\n",
      "from typing import Annotated\n",
      "import typer\n",
      "from obfuls2 import obfu_primes\n",
      "\n",
      "def _ordinal(n = None):\n"
     ]
    }
   ],
   "source": [
    "!../pycdc/pycdc main_extracted/main.pyc"
   ]
  },
  {
   "cell_type": "markdown",
   "id": "76e3c087-d696-45b6-bbe0-4d239ae69012",
   "metadata": {},
   "source": [
    "## Cleanup"
   ]
  },
  {
   "cell_type": "code",
   "execution_count": 13,
   "id": "38594372-c7d3-4d2e-9f20-6c05d374a46a",
   "metadata": {},
   "outputs": [],
   "source": [
    "!rm main.spec"
   ]
  },
  {
   "cell_type": "code",
   "execution_count": 14,
   "id": "b1970c61-424a-4727-9e7b-4269f7c87e4f",
   "metadata": {},
   "outputs": [],
   "source": [
    "!rm -r build/ dist/"
   ]
  },
  {
   "cell_type": "code",
   "execution_count": 15,
   "id": "173da2c4-362c-4d06-bbdb-349124f994bf",
   "metadata": {},
   "outputs": [],
   "source": [
    "!rm pyinstxtractor.py"
   ]
  },
  {
   "cell_type": "code",
   "execution_count": 16,
   "id": "97b5e22d-4b1f-4205-bfa6-c5766bcc518c",
   "metadata": {},
   "outputs": [],
   "source": [
    "!rm -r main_extracted/"
   ]
  }
 ],
 "metadata": {
  "kernelspec": {
   "display_name": "Python 3 (ipykernel)",
   "language": "python",
   "name": "python3"
  },
  "language_info": {
   "codemirror_mode": {
    "name": "ipython",
    "version": 3
   },
   "file_extension": ".py",
   "mimetype": "text/x-python",
   "name": "python",
   "nbconvert_exporter": "python",
   "pygments_lexer": "ipython3",
   "version": "3.10.3"
  }
 },
 "nbformat": 4,
 "nbformat_minor": 5
}
