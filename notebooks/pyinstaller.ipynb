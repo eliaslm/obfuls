{
 "cells": [
  {
   "cell_type": "markdown",
   "id": "e519a7c1-004a-497c-a124-8e1364df4b73",
   "metadata": {},
   "source": [
    "# PyInstaller"
   ]
  },
  {
   "cell_type": "code",
   "execution_count": 1,
   "id": "a1947570-641e-4493-b5d5-624dd27fb564",
   "metadata": {},
   "outputs": [],
   "source": [
    "%load_ext autoreload\n",
    "%autoreload 2"
   ]
  },
  {
   "cell_type": "markdown",
   "id": "c5620ab0-aa9e-49a8-8c20-1056d92a3c45",
   "metadata": {},
   "source": [
    "## Creating an executable"
   ]
  },
  {
   "cell_type": "code",
   "execution_count": 2,
   "id": "e3a43849-aac7-4c71-b589-9210679974ff",
   "metadata": {
    "scrolled": true
   },
   "outputs": [
    {
     "name": "stdout",
     "output_type": "stream",
     "text": [
      "425 INFO: PyInstaller: 6.8.0, contrib hooks: 2024.9\n",
      "425 INFO: Python: 3.10.3\n",
      "442 INFO: Platform: macOS-14.5-x86_64-i386-64bit\n",
      "442 INFO: Python environment: /Users/elias/Library/Caches/pypoetry/virtualenvs/obfuls2-I2hK0gus-py3.10\n",
      "443 INFO: wrote /Users/elias/simula/obfuls2/main.spec\n",
      "450 INFO: Module search paths (PYTHONPATH):\n",
      "['/Users/elias/.pyenv/versions/3.10.3/Library/Frameworks/Python.framework/Versions/3.10/lib/python310.zip',\n",
      " '/Users/elias/.pyenv/versions/3.10.3/Library/Frameworks/Python.framework/Versions/3.10/lib/python3.10',\n",
      " '/Users/elias/.pyenv/versions/3.10.3/Library/Frameworks/Python.framework/Versions/3.10/lib/python3.10/lib-dynload',\n",
      " '/Users/elias/Library/Caches/pypoetry/virtualenvs/obfuls2-I2hK0gus-py3.10/lib/python3.10/site-packages',\n",
      " '/Users/elias/simula/obfuls2',\n",
      " '/Users/elias/Library/Caches/pypoetry/virtualenvs/obfuls2-I2hK0gus-py3.10/lib/python3.10/site-packages/setuptools/_vendor',\n",
      " '/Users/elias/simula/obfuls2']\n",
      "655 INFO: checking Analysis\n",
      "655 INFO: Building Analysis because Analysis-00.toc is non existent\n",
      "655 INFO: Running Analysis Analysis-00.toc\n",
      "655 INFO: Target bytecode optimization level: 0\n",
      "656 INFO: Initializing module dependency graph...\n",
      "658 INFO: Caching module graph hooks...\n",
      "684 INFO: Analyzing base_library.zip ...\n",
      "1642 INFO: Loading module hook 'hook-heapq.py' from '/Users/elias/Library/Caches/pypoetry/virtualenvs/obfuls2-I2hK0gus-py3.10/lib/python3.10/site-packages/PyInstaller/hooks'...\n",
      "1751 INFO: Loading module hook 'hook-encodings.py' from '/Users/elias/Library/Caches/pypoetry/virtualenvs/obfuls2-I2hK0gus-py3.10/lib/python3.10/site-packages/PyInstaller/hooks'...\n",
      "3887 INFO: Loading module hook 'hook-pickle.py' from '/Users/elias/Library/Caches/pypoetry/virtualenvs/obfuls2-I2hK0gus-py3.10/lib/python3.10/site-packages/PyInstaller/hooks'...\n",
      "5749 INFO: Caching module dependency graph...\n",
      "5903 INFO: Looking for Python shared library...\n",
      "5913 INFO: Using Python shared library: /Users/elias/.pyenv/versions/3.10.3/Library/Frameworks/Python.framework/Versions/3.10/Python\n",
      "5913 INFO: Analyzing /Users/elias/simula/obfuls2/main.py\n",
      "6437 INFO: Loading module hook 'hook-difflib.py' from '/Users/elias/Library/Caches/pypoetry/virtualenvs/obfuls2-I2hK0gus-py3.10/lib/python3.10/site-packages/PyInstaller/hooks'...\n",
      "6510 INFO: Loading module hook 'hook-platform.py' from '/Users/elias/Library/Caches/pypoetry/virtualenvs/obfuls2-I2hK0gus-py3.10/lib/python3.10/site-packages/PyInstaller/hooks'...\n",
      "6554 INFO: Loading module hook 'hook-xml.py' from '/Users/elias/Library/Caches/pypoetry/virtualenvs/obfuls2-I2hK0gus-py3.10/lib/python3.10/site-packages/PyInstaller/hooks'...\n",
      "6775 INFO: Loading module hook 'hook-importlib_metadata.py' from '/Users/elias/Library/Caches/pypoetry/virtualenvs/obfuls2-I2hK0gus-py3.10/lib/python3.10/site-packages/PyInstaller/hooks'...\n",
      "7495 INFO: Loading module hook 'hook-pygments.py' from '/Users/elias/Library/Caches/pypoetry/virtualenvs/obfuls2-I2hK0gus-py3.10/lib/python3.10/site-packages/PyInstaller/hooks'...\n",
      "9316 INFO: Loading module hook 'hook-IPython.py' from '/Users/elias/Library/Caches/pypoetry/virtualenvs/obfuls2-I2hK0gus-py3.10/lib/python3.10/site-packages/_pyinstaller_hooks_contrib/stdhooks'...\n",
      "12219 INFO: Loading module hook 'hook-xml.dom.domreg.py' from '/Users/elias/Library/Caches/pypoetry/virtualenvs/obfuls2-I2hK0gus-py3.10/lib/python3.10/site-packages/PyInstaller/hooks'...\n",
      "12830 INFO: Loading module hook 'hook-multiprocessing.util.py' from '/Users/elias/Library/Caches/pypoetry/virtualenvs/obfuls2-I2hK0gus-py3.10/lib/python3.10/site-packages/PyInstaller/hooks'...\n",
      "14010 INFO: Loading module hook 'hook-sysconfig.py' from '/Users/elias/Library/Caches/pypoetry/virtualenvs/obfuls2-I2hK0gus-py3.10/lib/python3.10/site-packages/PyInstaller/hooks'...\n",
      "14226 INFO: Processing pre-safe import module hook six.moves from '/Users/elias/Library/Caches/pypoetry/virtualenvs/obfuls2-I2hK0gus-py3.10/lib/python3.10/site-packages/PyInstaller/hooks/pre_safe_import_module/hook-six.moves.py'.\n",
      "15085 INFO: Loading module hook 'hook-wcwidth.py' from '/Users/elias/Library/Caches/pypoetry/virtualenvs/obfuls2-I2hK0gus-py3.10/lib/python3.10/site-packages/PyInstaller/hooks'...\n",
      "16439 INFO: Loading module hook 'hook-jedi.py' from '/Users/elias/Library/Caches/pypoetry/virtualenvs/obfuls2-I2hK0gus-py3.10/lib/python3.10/site-packages/_pyinstaller_hooks_contrib/stdhooks'...\n",
      "17309 INFO: Loading module hook 'hook-parso.py' from '/Users/elias/Library/Caches/pypoetry/virtualenvs/obfuls2-I2hK0gus-py3.10/lib/python3.10/site-packages/_pyinstaller_hooks_contrib/stdhooks'...\n",
      "18666 INFO: Loading module hook 'hook-pkg_resources.py' from '/Users/elias/Library/Caches/pypoetry/virtualenvs/obfuls2-I2hK0gus-py3.10/lib/python3.10/site-packages/PyInstaller/hooks'...\n",
      "19739 INFO: Loading module hook 'hook-packaging.py' from '/Users/elias/Library/Caches/pypoetry/virtualenvs/obfuls2-I2hK0gus-py3.10/lib/python3.10/site-packages/PyInstaller/hooks'...\n",
      "19866 INFO: Loading module hook 'hook-jaraco.text.py' from '/Users/elias/Library/Caches/pypoetry/virtualenvs/obfuls2-I2hK0gus-py3.10/lib/python3.10/site-packages/_pyinstaller_hooks_contrib/stdhooks'...\n",
      "20082 INFO: Loading module hook 'hook-importlib_resources.py' from '/Users/elias/Library/Caches/pypoetry/virtualenvs/obfuls2-I2hK0gus-py3.10/lib/python3.10/site-packages/PyInstaller/hooks'...\n",
      "20513 INFO: Loading module hook 'hook-backports.py' from '/Users/elias/Library/Caches/pypoetry/virtualenvs/obfuls2-I2hK0gus-py3.10/lib/python3.10/site-packages/_pyinstaller_hooks_contrib/stdhooks'...\n",
      "20534 INFO: Loading module hook 'hook-platformdirs.py' from '/Users/elias/Library/Caches/pypoetry/virtualenvs/obfuls2-I2hK0gus-py3.10/lib/python3.10/site-packages/_pyinstaller_hooks_contrib/stdhooks'...\n",
      "20952 INFO: Loading module hook 'hook-sqlite3.py' from '/Users/elias/Library/Caches/pypoetry/virtualenvs/obfuls2-I2hK0gus-py3.10/lib/python3.10/site-packages/PyInstaller/hooks'...\n",
      "21375 INFO: Loading module hook 'hook-nbformat.py' from '/Users/elias/Library/Caches/pypoetry/virtualenvs/obfuls2-I2hK0gus-py3.10/lib/python3.10/site-packages/_pyinstaller_hooks_contrib/stdhooks'...\n",
      "21630 INFO: Loading module hook 'hook-jsonschema.py' from '/Users/elias/Library/Caches/pypoetry/virtualenvs/obfuls2-I2hK0gus-py3.10/lib/python3.10/site-packages/_pyinstaller_hooks_contrib/stdhooks'...\n",
      "23262 INFO: Loading module hook 'hook-jsonschema_specifications.py' from '/Users/elias/Library/Caches/pypoetry/virtualenvs/obfuls2-I2hK0gus-py3.10/lib/python3.10/site-packages/_pyinstaller_hooks_contrib/stdhooks'...\n",
      "23859 INFO: Loading module hook 'hook-charset_normalizer.py' from '/Users/elias/Library/Caches/pypoetry/virtualenvs/obfuls2-I2hK0gus-py3.10/lib/python3.10/site-packages/_pyinstaller_hooks_contrib/stdhooks'...\n",
      "24042 INFO: Loading module hook 'hook-certifi.py' from '/Users/elias/Library/Caches/pypoetry/virtualenvs/obfuls2-I2hK0gus-py3.10/lib/python3.10/site-packages/_pyinstaller_hooks_contrib/stdhooks'...\n",
      "24737 INFO: Loading module hook 'hook-zmq.py' from '/Users/elias/Library/Caches/pypoetry/virtualenvs/obfuls2-I2hK0gus-py3.10/lib/python3.10/site-packages/_pyinstaller_hooks_contrib/stdhooks'...\n",
      "25690 INFO: Loading module hook 'hook-pycparser.py' from '/Users/elias/Library/Caches/pypoetry/virtualenvs/obfuls2-I2hK0gus-py3.10/lib/python3.10/site-packages/_pyinstaller_hooks_contrib/stdhooks'...\n",
      "26357 INFO: Loading module hook 'hook-setuptools.py' from '/Users/elias/Library/Caches/pypoetry/virtualenvs/obfuls2-I2hK0gus-py3.10/lib/python3.10/site-packages/PyInstaller/hooks'...\n",
      "30897 INFO: Processing pre-safe import module hook distutils from '/Users/elias/Library/Caches/pypoetry/virtualenvs/obfuls2-I2hK0gus-py3.10/lib/python3.10/site-packages/PyInstaller/hooks/pre_safe_import_module/hook-distutils.py'.\n",
      "30898 INFO: Processing pre-find module path hook distutils from '/Users/elias/Library/Caches/pypoetry/virtualenvs/obfuls2-I2hK0gus-py3.10/lib/python3.10/site-packages/PyInstaller/hooks/pre_find_module_path/hook-distutils.py'.\n",
      "31234 INFO: Loading module hook 'hook-distutils.py' from '/Users/elias/Library/Caches/pypoetry/virtualenvs/obfuls2-I2hK0gus-py3.10/lib/python3.10/site-packages/PyInstaller/hooks'...\n",
      "31274 INFO: Loading module hook 'hook-distutils.util.py' from '/Users/elias/Library/Caches/pypoetry/virtualenvs/obfuls2-I2hK0gus-py3.10/lib/python3.10/site-packages/PyInstaller/hooks'...\n",
      "33956 INFO: Loading module hook 'hook-psutil.py' from '/Users/elias/Library/Caches/pypoetry/virtualenvs/obfuls2-I2hK0gus-py3.10/lib/python3.10/site-packages/_pyinstaller_hooks_contrib/stdhooks'...\n",
      "34714 INFO: Loading module hook 'hook-_tkinter.py' from '/Users/elias/Library/Caches/pypoetry/virtualenvs/obfuls2-I2hK0gus-py3.10/lib/python3.10/site-packages/PyInstaller/hooks'...\n",
      "34742 INFO: Processing pre-safe import module hook gi from '/Users/elias/Library/Caches/pypoetry/virtualenvs/obfuls2-I2hK0gus-py3.10/lib/python3.10/site-packages/PyInstaller/hooks/pre_safe_import_module/hook-gi.py'.\n",
      "35627 INFO: Processing module hooks...\n",
      "35693 WARNING: Hidden import \"pkg_resources._vendor.jaraco.functools\" not found!\n",
      "35693 WARNING: Hidden import \"pkg_resources._vendor.jaraco.context\" not found!\n",
      "35693 WARNING: Hidden import \"pkg_resources._vendor.jaraco.text\" not found!\n",
      "35693 WARNING: Hidden import \"pkg_resources.extern\" not found!\n",
      "35693 INFO: Loading module hook 'hook-_tkinter.py' from '/Users/elias/Library/Caches/pypoetry/virtualenvs/obfuls2-I2hK0gus-py3.10/lib/python3.10/site-packages/PyInstaller/hooks'...\n",
      "35696 INFO: Not collecting Tcl/Tk data - either python is using macOS' system Tcl/Tk framework, or Tcl/Tk data directories could not be found.\n",
      "35741 INFO: Loading module hook 'hook-setuptools.msvc.py' from '/Users/elias/Library/Caches/pypoetry/virtualenvs/obfuls2-I2hK0gus-py3.10/lib/python3.10/site-packages/PyInstaller/hooks'...\n",
      "37621 INFO: Loading module hook 'hook-setuptools._distutils.command.check.py' from '/Users/elias/Library/Caches/pypoetry/virtualenvs/obfuls2-I2hK0gus-py3.10/lib/python3.10/site-packages/PyInstaller/hooks'...\n",
      "37984 INFO: Loading module hook 'hook-distutils.command.check.py' from '/Users/elias/Library/Caches/pypoetry/virtualenvs/obfuls2-I2hK0gus-py3.10/lib/python3.10/site-packages/PyInstaller/hooks'...\n",
      "38311 WARNING: Hidden import \"importlib_resources.trees\" not found!\n",
      "41585 INFO: Performing binary vs. data reclassification (1863 entries)\n",
      "42355 INFO: Looking for ctypes DLLs\n",
      "42380 WARNING: Library user32 required via ctypes not found\n",
      "42434 INFO: Analyzing run-time hooks ...\n",
      "42451 INFO: Including run-time hook '/Users/elias/Library/Caches/pypoetry/virtualenvs/obfuls2-I2hK0gus-py3.10/lib/python3.10/site-packages/PyInstaller/hooks/rthooks/pyi_rth_inspect.py'\n",
      "42455 INFO: Including run-time hook '/Users/elias/Library/Caches/pypoetry/virtualenvs/obfuls2-I2hK0gus-py3.10/lib/python3.10/site-packages/PyInstaller/hooks/rthooks/pyi_rth_pkgutil.py'\n",
      "42460 INFO: Processing pre-find module path hook _pyi_rth_utils from '/Users/elias/Library/Caches/pypoetry/virtualenvs/obfuls2-I2hK0gus-py3.10/lib/python3.10/site-packages/PyInstaller/hooks/pre_find_module_path/hook-_pyi_rth_utils.py'.\n",
      "42462 INFO: Loading module hook 'hook-_pyi_rth_utils.py' from '/Users/elias/Library/Caches/pypoetry/virtualenvs/obfuls2-I2hK0gus-py3.10/lib/python3.10/site-packages/PyInstaller/hooks'...\n",
      "42464 INFO: Including run-time hook '/Users/elias/Library/Caches/pypoetry/virtualenvs/obfuls2-I2hK0gus-py3.10/lib/python3.10/site-packages/PyInstaller/hooks/rthooks/pyi_rth_multiprocessing.py'\n",
      "42469 INFO: Including run-time hook '/Users/elias/Library/Caches/pypoetry/virtualenvs/obfuls2-I2hK0gus-py3.10/lib/python3.10/site-packages/PyInstaller/hooks/rthooks/pyi_rth_pkgres.py'\n",
      "42475 INFO: Including run-time hook '/Users/elias/Library/Caches/pypoetry/virtualenvs/obfuls2-I2hK0gus-py3.10/lib/python3.10/site-packages/PyInstaller/hooks/rthooks/pyi_rth__tkinter.py'\n",
      "42477 INFO: Including run-time hook '/Users/elias/Library/Caches/pypoetry/virtualenvs/obfuls2-I2hK0gus-py3.10/lib/python3.10/site-packages/PyInstaller/hooks/rthooks/pyi_rth_setuptools.py'\n",
      "42479 INFO: Including run-time hook '/Users/elias/Library/Caches/pypoetry/virtualenvs/obfuls2-I2hK0gus-py3.10/lib/python3.10/site-packages/_pyinstaller_hooks_contrib/rthooks/pyi_rth_traitlets.py'\n",
      "42641 INFO: Looking for dynamic libraries\n",
      "42964 INFO: Warnings written to /Users/elias/simula/obfuls2/build/main/warn-main.txt\n",
      "43185 INFO: Graph cross-reference written to /Users/elias/simula/obfuls2/build/main/xref-main.html\n",
      "43497 INFO: checking PYZ\n",
      "43498 INFO: Building PYZ because PYZ-00.toc is non existent\n",
      "43498 INFO: Building PYZ (ZlibArchive) /Users/elias/simula/obfuls2/build/main/PYZ-00.pyz\n",
      "45953 INFO: Building PYZ (ZlibArchive) /Users/elias/simula/obfuls2/build/main/PYZ-00.pyz completed successfully.\n",
      "46028 INFO: EXE target arch: x86_64\n",
      "46028 INFO: Code signing identity: None\n",
      "46135 INFO: checking PKG\n",
      "46135 INFO: Building PKG because PKG-00.toc is non existent\n",
      "46135 INFO: Building PKG (CArchive) main.pkg\n",
      "53108 INFO: Building PKG (CArchive) main.pkg completed successfully.\n",
      "53202 INFO: Bootloader /Users/elias/Library/Caches/pypoetry/virtualenvs/obfuls2-I2hK0gus-py3.10/lib/python3.10/site-packages/PyInstaller/bootloader/Darwin-64bit/run\n",
      "53202 INFO: checking EXE\n",
      "53202 INFO: Building EXE because EXE-00.toc is non existent\n",
      "53202 INFO: Building EXE from EXE-00.toc\n",
      "53202 INFO: Copying bootloader EXE to /Users/elias/simula/obfuls2/dist/main\n",
      "53204 INFO: Converting EXE to target arch (x86_64)\n",
      "53254 INFO: Removing signature(s) from EXE\n",
      "53287 INFO: Appending PKG archive to EXE\n",
      "53304 INFO: Fixing EXE headers for code signing\n",
      "53314 INFO: Re-signing the EXE\n",
      "53484 INFO: Building EXE from EXE-00.toc completed successfully.\n"
     ]
    }
   ],
   "source": [
    "!pyinstaller --onefile main.py"
   ]
  },
  {
   "cell_type": "markdown",
   "id": "fb6ab44c-cd08-4ed6-9b2d-f84b161228a9",
   "metadata": {},
   "source": [
    "## Checking the output"
   ]
  },
  {
   "cell_type": "code",
   "execution_count": 3,
   "id": "45321613-0bb8-4f6e-9ce8-1732f4f13676",
   "metadata": {},
   "outputs": [
    {
     "name": "stdout",
     "output_type": "stream",
     "text": [
      "\u001b[1m\u001b[36m.\u001b[m\u001b[m    \u001b[1m\u001b[36m..\u001b[m\u001b[m   \u001b[31mmain\u001b[m\u001b[m\n"
     ]
    }
   ],
   "source": [
    "!ls -a dist"
   ]
  },
  {
   "cell_type": "code",
   "execution_count": 5,
   "id": "e036da13-1818-4eec-b1f4-11af25cfc47b",
   "metadata": {},
   "outputs": [
    {
     "name": "stdout",
     "output_type": "stream",
     "text": [
      "Calculated 10 prime numbers in 0.00 seconds\n",
      "The 10th prime was 29\n"
     ]
    }
   ],
   "source": [
    "!dist/main --n-primes=10"
   ]
  },
  {
   "cell_type": "code",
   "execution_count": 6,
   "id": "c6e6f81f-dbc1-4bc6-9c5d-d3c147e89725",
   "metadata": {},
   "outputs": [
    {
     "name": "stdout",
     "output_type": "stream",
     "text": [
      "   65502 dist/main\n"
     ]
    }
   ],
   "source": [
    "!wc -l dist/main"
   ]
  },
  {
   "cell_type": "code",
   "execution_count": 7,
   "id": "895db5ae-f5de-49c1-bcd2-82d49f9a4c25",
   "metadata": {},
   "outputs": [
    {
     "name": "stdout",
     "output_type": "stream",
     "text": [
      "Bad MAGIC!\n",
      "Could not load file dist/main\n"
     ]
    }
   ],
   "source": [
    "!../pycdc/pycdc dist/main"
   ]
  },
  {
   "cell_type": "markdown",
   "id": "9d4e7e36-b3b9-4c3d-8b0b-ac7b9ed73b65",
   "metadata": {},
   "source": [
    "## Hmmmm"
   ]
  },
  {
   "cell_type": "code",
   "execution_count": 8,
   "id": "b51e56d5-f996-44d0-9d58-4a7309727ed0",
   "metadata": {},
   "outputs": [
    {
     "name": "stdout",
     "output_type": "stream",
     "text": [
      "  % Total    % Received % Xferd  Average Speed   Time    Time     Time  Current\n",
      "                                 Dload  Upload   Total   Spent    Left  Speed\n",
      "100 17510  100 17510    0     0  84559      0 --:--:-- --:--:-- --:--:-- 85000\n"
     ]
    }
   ],
   "source": [
    "!curl -o pyinstxtractor.py https://raw.githubusercontent.com/extremecoders-re/pyinstxtractor/refs/heads/master/pyinstxtractor.py"
   ]
  },
  {
   "cell_type": "code",
   "execution_count": 9,
   "id": "33faf4c9-f00c-49fa-8da3-cbae0513d63c",
   "metadata": {},
   "outputs": [
    {
     "name": "stdout",
     "output_type": "stream",
     "text": [
      "[+] Processing dist/main\n",
      "[+] Pyinstaller version: 2.1+\n",
      "[+] Python version: 3.10\n",
      "[+] Length of package: 17263685 bytes\n",
      "[+] Found 1982 files in CArchive\n",
      "[+] Beginning extraction...please standby\n",
      "[+] Possible entry point: pyiboot01_bootstrap.pyc\n",
      "[+] Possible entry point: pyi_rth_inspect.pyc\n",
      "[+] Possible entry point: pyi_rth_pkgutil.pyc\n",
      "[+] Possible entry point: pyi_rth_multiprocessing.pyc\n",
      "[+] Possible entry point: pyi_rth_pkgres.pyc\n",
      "[+] Possible entry point: pyi_rth__tkinter.pyc\n",
      "[+] Possible entry point: pyi_rth_setuptools.pyc\n",
      "[+] Possible entry point: pyi_rth_traitlets.pyc\n",
      "[+] Possible entry point: main.pyc\n",
      "[+] Found 1989 files in PYZ archive\n",
      "[+] Successfully extracted pyinstaller archive: dist/main\n",
      "\n",
      "You can now use a python decompiler on the pyc files within the extracted directory\n"
     ]
    }
   ],
   "source": [
    "!python pyinstxtractor.py dist/main"
   ]
  },
  {
   "cell_type": "code",
   "execution_count": 10,
   "id": "216c4f90-d368-40d2-bd72-c81b14869e0e",
   "metadata": {},
   "outputs": [
    {
     "name": "stdout",
     "output_type": "stream",
     "text": [
      "\u001b[1m\u001b[36mIPython\u001b[m\u001b[m                             main.pyc\n",
      "PYZ-00.pyz                          \u001b[1m\u001b[36mnbformat\u001b[m\u001b[m\n",
      "\u001b[1m\u001b[36mPYZ-00.pyz_extracted\u001b[m\u001b[m                \u001b[1m\u001b[36mnbformat-5.10.4.dist-info\u001b[m\u001b[m\n",
      "Python                              \u001b[1m\u001b[36mparso\u001b[m\u001b[m\n",
      "\u001b[1m\u001b[36mPython.framework\u001b[m\u001b[m                    \u001b[1m\u001b[36mpsutil\u001b[m\u001b[m\n",
      "_cffi_backend.cpython-310-darwin.so pyi_rth__tkinter.pyc\n",
      "\u001b[1m\u001b[36mattrs-24.2.0.dist-info\u001b[m\u001b[m              pyi_rth_inspect.pyc\n",
      "base_library.zip                    pyi_rth_multiprocessing.pyc\n",
      "\u001b[1m\u001b[36mcertifi\u001b[m\u001b[m                             pyi_rth_pkgres.pyc\n",
      "\u001b[1m\u001b[36mcharset_normalizer\u001b[m\u001b[m                  pyi_rth_pkgutil.pyc\n",
      "\u001b[1m\u001b[36mimportlib_metadata-8.0.0.dist-info\u001b[m\u001b[m  pyi_rth_setuptools.pyc\n",
      "\u001b[1m\u001b[36mjaraco\u001b[m\u001b[m                              pyi_rth_traitlets.pyc\n",
      "\u001b[1m\u001b[36mjedi\u001b[m\u001b[m                                pyiboot01_bootstrap.pyc\n",
      "\u001b[1m\u001b[36mjsonschema\u001b[m\u001b[m                          pyimod01_archive.pyc\n",
      "\u001b[1m\u001b[36mjsonschema-4.23.0.dist-info\u001b[m\u001b[m         pyimod02_importers.pyc\n",
      "\u001b[1m\u001b[36mjsonschema_specifications\u001b[m\u001b[m           pyimod03_ctypes.pyc\n",
      "\u001b[1m\u001b[36mlib-dynload\u001b[m\u001b[m                         \u001b[1m\u001b[36mrpds\u001b[m\u001b[m\n",
      "libcrypto.1.1.dylib                 struct.pyc\n",
      "libintl.8.dylib                     \u001b[1m\u001b[36mtornado\u001b[m\u001b[m\n",
      "libncursesw.6.dylib                 \u001b[1m\u001b[36mtypeguard-4.3.0.dist-info\u001b[m\u001b[m\n",
      "libreadline.8.dylib                 \u001b[1m\u001b[36mwheel-0.44.0.dist-info\u001b[m\u001b[m\n",
      "libsodium.26.dylib                  \u001b[1m\u001b[36mzmq\u001b[m\u001b[m\n",
      "libssl.1.1.dylib                    \u001b[1m\u001b[36mzstandard\u001b[m\u001b[m\n",
      "libzmq.5.dylib\n"
     ]
    }
   ],
   "source": [
    "!ls main_extracted/"
   ]
  },
  {
   "cell_type": "code",
   "execution_count": 11,
   "id": "716223ca-b25f-48f9-860f-5cbfc52578bb",
   "metadata": {},
   "outputs": [
    {
     "name": "stdout",
     "output_type": "stream",
     "text": [
      "# Source Generated with Decompyle++\n",
      "# File: main.pyc (Python 3.10)\n",
      "\n",
      "import time\n",
      "from typing import Annotated\n",
      "import typer\n",
      "from obfuls2 import obfu_primes\n",
      "\n",
      "def _ordinal(n = None):\n"
     ]
    }
   ],
   "source": [
    "!../pycdc/pycdc main_extracted/main.pyc"
   ]
  },
  {
   "cell_type": "markdown",
   "id": "76e3c087-d696-45b6-bbe0-4d239ae69012",
   "metadata": {},
   "source": [
    "## Cleanup"
   ]
  },
  {
   "cell_type": "code",
   "execution_count": 12,
   "id": "38594372-c7d3-4d2e-9f20-6c05d374a46a",
   "metadata": {},
   "outputs": [],
   "source": [
    "!rm main.spec"
   ]
  },
  {
   "cell_type": "code",
   "execution_count": 13,
   "id": "b1970c61-424a-4727-9e7b-4269f7c87e4f",
   "metadata": {},
   "outputs": [],
   "source": [
    "!rm -r build/ dist/"
   ]
  },
  {
   "cell_type": "code",
   "execution_count": 14,
   "id": "173da2c4-362c-4d06-bbdb-349124f994bf",
   "metadata": {},
   "outputs": [],
   "source": [
    "!rm pyinstxtractor.py"
   ]
  },
  {
   "cell_type": "code",
   "execution_count": 15,
   "id": "97b5e22d-4b1f-4205-bfa6-c5766bcc518c",
   "metadata": {},
   "outputs": [],
   "source": [
    "!rm -r main_extracted/"
   ]
  }
 ],
 "metadata": {
  "kernelspec": {
   "display_name": "Python 3 (ipykernel)",
   "language": "python",
   "name": "python3"
  },
  "language_info": {
   "codemirror_mode": {
    "name": "ipython",
    "version": 3
   },
   "file_extension": ".py",
   "mimetype": "text/x-python",
   "name": "python",
   "nbconvert_exporter": "python",
   "pygments_lexer": "ipython3",
   "version": "3.10.3"
  }
 },
 "nbformat": 4,
 "nbformat_minor": 5
}
