{
 "cells": [
  {
   "cell_type": "markdown",
   "id": "9fefe86f-b638-4a73-8e3d-4e1ef23675b3",
   "metadata": {},
   "source": [
    "# SOURCEdefender"
   ]
  },
  {
   "cell_type": "code",
   "execution_count": 1,
   "id": "8bb9120b-8962-4d49-9018-4998dac79c3b",
   "metadata": {},
   "outputs": [],
   "source": [
    "%load_ext autoreload\n",
    "%autoreload 2"
   ]
  },
  {
   "cell_type": "code",
   "execution_count": 2,
   "id": "859f70cc-ecb1-405b-a76a-42b6a2a3b145",
   "metadata": {},
   "outputs": [],
   "source": [
    "import os\n",
    "\n",
    "from obfuls2 import render"
   ]
  },
  {
   "cell_type": "code",
   "execution_count": 3,
   "id": "3add376a-bfc5-4f90-a492-c664ee6df414",
   "metadata": {},
   "outputs": [],
   "source": [
    "os.chdir(\"..\")"
   ]
  },
  {
   "cell_type": "markdown",
   "id": "87358cd8-b745-4e7f-84ca-7aa602cd36cf",
   "metadata": {},
   "source": [
    "## Original code"
   ]
  },
  {
   "cell_type": "code",
   "execution_count": 4,
   "id": "50c4046b-034b-4972-a601-30651d7562ba",
   "metadata": {},
   "outputs": [
    {
     "data": {
      "text/markdown": [
       "```python\n",
       "\"\"\"Useful module for calculating prime numbers.\"\"\"\n",
       "\n",
       "\n",
       "def calculate_primes(n: int) -> int:\n",
       "    \"\"\"Calculate the first 'n' primes.\"\"\"\n",
       "    primes = []\n",
       "    num = 2\n",
       "    while len(primes) < n:\n",
       "        is_prime = True\n",
       "        for i in range(2, int(num**0.5) + 1):\n",
       "            if num % i == 0:\n",
       "                is_prime = False\n",
       "                break\n",
       "        if is_prime:\n",
       "            primes.append(num)\n",
       "        num += 1\n",
       "    return primes\n",
       "\n",
       "\n",
       "if __name__ == \"__main__\":\n",
       "    print(calculate_primes(10))\n",
       "\n",
       "```"
      ],
      "text/plain": [
       "<IPython.core.display.Markdown object>"
      ]
     },
     "metadata": {},
     "output_type": "display_data"
    }
   ],
   "source": [
    "render.display_src('obfuls2/obfu_primes.py')"
   ]
  },
  {
   "cell_type": "markdown",
   "id": "15507a58-6345-4089-aac9-829a5f9599b5",
   "metadata": {},
   "source": [
    "## Encryption"
   ]
  },
  {
   "cell_type": "code",
   "execution_count": 5,
   "id": "15319c33-9239-4f6a-9d94-7d60d2c14766",
   "metadata": {},
   "outputs": [
    {
     "name": "stdout",
     "output_type": "stream",
     "text": [
      "SOURCEdefender v14.1.1\n",
      "\n",
      " - Account Status  : Trial\n",
      " - Code Expires    : 23/10/2024, 13:29:12\n",
      " - Task            : Encrypting\n",
      "\n",
      "/Users/elias/simula/obfuls2/obfuls2/obfu_primes.py\n",
      "\n",
      "\n"
     ]
    }
   ],
   "source": [
    "!sourcedefender encrypt --remove obfuls2/obfu_primes.py"
   ]
  },
  {
   "cell_type": "code",
   "execution_count": 6,
   "id": "751abb97-caf4-4675-b674-1eb7c76ac3cd",
   "metadata": {},
   "outputs": [
    {
     "name": "stdout",
     "output_type": "stream",
     "text": [
      "\u001b[1;36m.\u001b[0m\n",
      "├── main.py\n",
      "├── \u001b[1;36mnotebooks\u001b[0m\n",
      "│   ├── nuitka.ipynb\n",
      "│   ├── pyarmor.ipynb\n",
      "│   ├── pyinstaller.ipynb\n",
      "│   └── sourcedefender.ipynb\n",
      "├── \u001b[1;36mobfuls2\u001b[0m\n",
      "│   ├── __init__.py\n",
      "│   ├── \u001b[1;36m__pycache__\u001b[0m\n",
      "│   ├── obfu_primes.pye\n",
      "│   └── render.py\n",
      "├── poetry.lock\n",
      "└── pyproject.toml\n",
      "\n",
      "4 directories, 10 files\n"
     ]
    }
   ],
   "source": [
    "!tree --gitignore"
   ]
  },
  {
   "cell_type": "code",
   "execution_count": 7,
   "id": "44ce446f-8949-4689-9ae3-d9079cc95661",
   "metadata": {},
   "outputs": [
    {
     "data": {
      "text/markdown": [
       "```python\n",
       "---BEGIN PYE FILE---\n",
       "BL;fYs!O0lRzkpe9tkS$\n",
       "i5<yKO5SP=Vm-p=yP|1g\n",
       "VwEL9_v~`>>AHt*_<4Vz\n",
       "DPbeeC-6g&LKc*@!d`=>\n",
       "oz#O!X;n$#Fe6^+1M*)K\n",
       "L+qc_^{Y;YQ&_by<i`{b\n",
       "K%xcQO|zO7FzEaC`Qwvo\n",
       "Ca?}m=%TI%Z9FEb=0{$;\n",
       "%od?w9nm(I(nMLXJ7LF=\n",
       "?RCIMIQr(TL_`&8pG!3m\n",
       "yJpj}gI8X%=}a0ThQkXf\n",
       "8IW3sGx8Q-Iu0M8`4NvU\n",
       "$T^xO!$HQx**<d-7bZ7Q\n",
       "AfRd&h|onQm<i}AREN^g\n",
       "-Ep450m+`R*iu(?c3zDV\n",
       "DP@(jowpL|7z(<52J*j(\n",
       "S8HcF03)x%loU&)W0sbv\n",
       "70cGM#+sA&Qn{Y-@y^Go\n",
       "rSR6%eC<sv+!b_lkwFTs\n",
       "W$gE56&y+2=6^2<FSH}X\n",
       "IB9-!^%qOWuZq)idszSm\n",
       "IeI?9GQe`xbR$7kn!s!h\n",
       "TJq9~1Ph+FBB-dND?`8L\n",
       "SK8nkrzxGjo%a$Xr^jbD\n",
       "H_y*U(LqL~twb&F`lK~0\n",
       "Z4?Axz69GzplrSu*@*JS\n",
       "x|>Y{o)(w_?IMslrSogX\n",
       "-)B@G|6z1GS>E2Kx`yu&\n",
       "9(ZQ?=;G9XbSgtE@Oi#l\n",
       "vQjEgLSC<X0>-jFtz^fv\n",
       "GvYnJ(mc=<8s6IZ|67P9\n",
       "F{-4hEBp^H3klkzMv%N8\n",
       "@`P>Iv#-@oGs%@6ouLvW\n",
       "$fmo#L%Z`Y9y4YJYYLU$\n",
       "7so0!ko|)AX2?$I5rF8{\n",
       "GIu%LA+`4l&};\n",
       "----END PYE FILE----\n",
       "```"
      ],
      "text/plain": [
       "<IPython.core.display.Markdown object>"
      ]
     },
     "metadata": {},
     "output_type": "display_data"
    }
   ],
   "source": [
    "render.display_src('obfuls2/obfu_primes.pye')"
   ]
  },
  {
   "cell_type": "markdown",
   "id": "99cc77ba-66e0-4622-9eff-2e601fd91d15",
   "metadata": {},
   "source": [
    "## Importing the encrypted code"
   ]
  },
  {
   "cell_type": "code",
   "execution_count": 8,
   "id": "7d5869cb-2719-403f-b5c8-8689947759c7",
   "metadata": {},
   "outputs": [],
   "source": [
    "import sourcedefender\n",
    "\n",
    "from obfuls2 import obfu_primes"
   ]
  },
  {
   "cell_type": "code",
   "execution_count": 9,
   "id": "ea93941d-3e4c-4b98-8b17-dbbe54a0e352",
   "metadata": {},
   "outputs": [
    {
     "data": {
      "text/plain": [
       "'/Users/elias/simula/obfuls2/obfuls2/obfu_primes.pye'"
      ]
     },
     "execution_count": 9,
     "metadata": {},
     "output_type": "execute_result"
    }
   ],
   "source": [
    "obfu_primes.__file__"
   ]
  },
  {
   "cell_type": "code",
   "execution_count": 10,
   "id": "db1e98a3-8514-4740-b2ba-746edfb735ce",
   "metadata": {},
   "outputs": [
    {
     "data": {
      "text/plain": [
       "[2, 3, 5, 7, 11, 13, 17, 19, 23, 29]"
      ]
     },
     "execution_count": 10,
     "metadata": {},
     "output_type": "execute_result"
    }
   ],
   "source": [
    "obfu_primes.calculate_primes(10)"
   ]
  },
  {
   "cell_type": "markdown",
   "id": "3a03792f-5081-46f7-87c7-ad58a5f00b95",
   "metadata": {},
   "source": [
    "## Cleanup"
   ]
  },
  {
   "cell_type": "code",
   "execution_count": 11,
   "id": "836b2a3d-bf5c-4791-a7ce-e2ee1ed5d856",
   "metadata": {},
   "outputs": [],
   "source": [
    "!rm obfuls2/obfu_primes.pye"
   ]
  },
  {
   "cell_type": "code",
   "execution_count": 12,
   "id": "23a5dcb2-d0aa-42d0-b12a-7d4a08a5bea7",
   "metadata": {},
   "outputs": [
    {
     "name": "stdout",
     "output_type": "stream",
     "text": [
      "Updated 2 paths from the index\n"
     ]
    }
   ],
   "source": [
    "!git checkout ."
   ]
  },
  {
   "cell_type": "code",
   "execution_count": 13,
   "id": "69f3f2a5-1ce0-49b7-b200-11422058fd19",
   "metadata": {},
   "outputs": [
    {
     "name": "stdout",
     "output_type": "stream",
     "text": [
      "On branch main\n",
      "nothing to commit, working tree clean\n"
     ]
    }
   ],
   "source": [
    "!git status"
   ]
  }
 ],
 "metadata": {
  "kernelspec": {
   "display_name": "Python 3 (ipykernel)",
   "language": "python",
   "name": "python3"
  },
  "language_info": {
   "codemirror_mode": {
    "name": "ipython",
    "version": 3
   },
   "file_extension": ".py",
   "mimetype": "text/x-python",
   "name": "python",
   "nbconvert_exporter": "python",
   "pygments_lexer": "ipython3",
   "version": "3.10.3"
  }
 },
 "nbformat": 4,
 "nbformat_minor": 5
}
