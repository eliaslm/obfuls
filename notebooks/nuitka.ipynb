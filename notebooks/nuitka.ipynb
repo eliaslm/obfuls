{
 "cells": [
  {
   "cell_type": "markdown",
   "id": "499333a1-9e39-4e0a-8243-beccc3dc67d1",
   "metadata": {},
   "source": [
    "# Nuitka"
   ]
  },
  {
   "cell_type": "code",
   "execution_count": 1,
   "id": "766a9da4-a736-40bf-a1b0-342833fe92ab",
   "metadata": {},
   "outputs": [],
   "source": [
    "%load_ext autoreload\n",
    "%autoreload 2"
   ]
  },
  {
   "cell_type": "markdown",
   "id": "f02f52d1-9e17-425e-b895-37493051787f",
   "metadata": {},
   "source": [
    "## Creating an executable"
   ]
  },
  {
   "cell_type": "code",
   "execution_count": 2,
   "id": "6c41d702-9185-4069-9fa6-26f4c1f48be0",
   "metadata": {},
   "outputs": [
    {
     "name": "stdout",
     "output_type": "stream",
     "text": [
      "Nuitka-Options: Used command line options: --standalone main.py\n",
      "Nuitka: Starting Python compilation with Nuitka '2.4.10' on Python '3.10'\n",
      "Nuitka: commercial grade 'not installed'.\n",
      "Nuitka-Plugins:anti-bloat: Not including '_bisect' automatically in order to    \n",
      "Nuitka-Plugins:anti-bloat: avoid bloat, but this may cause: may slow down by\n",
      "Nuitka-Plugins:anti-bloat: using fallback implementation.\n",
      "Nuitka-Plugins:anti-bloat: Not including '_json' automatically in order to avoid\n",
      "Nuitka-Plugins:anti-bloat: bloat, but this may cause: may slow down by using\n",
      "Nuitka-Plugins:anti-bloat: fallback implementation.\n",
      "Nuitka: Completed Python level compilation and optimization.\n",
      "Nuitka: Generating source code for C backend compiler.\n",
      "Nuitka: Running data composer tool for optimal constant value handling.         \n",
      "Nuitka: Running C compilation via Scons.\n",
      "Nuitka-Scons: Backend C compiler: clang (clang 15.0.0).\n",
      "Nuitka-Scons: Backend linking program with 184 files (no progress information\n",
      "Nuitka-Scons: available for this stage).\n",
      "Nuitka-Scons: Compiled 184 C files using ccache.\n",
      "Nuitka-Scons: Cached C files (using ccache) with result 'cache hit': 184\n",
      "Nuitka: Keeping build directory 'main.build'.                                   \n",
      "Nuitka: Created binary that runs on macOS 14.5 (x86_64) or higher.\n",
      "Nuitka: Successfully created 'main.dist/main.bin'.\n"
     ]
    }
   ],
   "source": [
    "!python -m nuitka --standalone main.py"
   ]
  },
  {
   "cell_type": "markdown",
   "id": "f84a9f1d-dc51-4bb8-8807-590f354c6a57",
   "metadata": {},
   "source": [
    "## Running the program"
   ]
  },
  {
   "cell_type": "code",
   "execution_count": 4,
   "id": "b6c10dc3-ce8f-4a66-b17d-090e2d33f571",
   "metadata": {},
   "outputs": [
    {
     "name": "stdout",
     "output_type": "stream",
     "text": [
      "Calculated 10 prime numbers in 0.00 seconds\n",
      "The 10th prime was 29\n"
     ]
    }
   ],
   "source": [
    "!main.dist/main.bin --n-primes=10"
   ]
  },
  {
   "cell_type": "markdown",
   "id": "dda85385-082c-4ea7-ab7a-1449a8311fac",
   "metadata": {},
   "source": [
    "## Speedup"
   ]
  },
  {
   "cell_type": "code",
   "execution_count": 5,
   "id": "b6326f27-0a1c-40c8-ba8e-5f76261465dd",
   "metadata": {},
   "outputs": [
    {
     "name": "stdout",
     "output_type": "stream",
     "text": [
      "Calculated 200000 prime numbers in 22.25 seconds\n",
      "The 200000th prime was 2750159\n",
      "python main.py --n-primes=200_000  21.76s user 0.39s system 97% cpu 22.691 total\n"
     ]
    }
   ],
   "source": [
    "!time python main.py --n-primes=200_000"
   ]
  },
  {
   "cell_type": "code",
   "execution_count": 6,
   "id": "2e2bc8ec-9939-4043-b5d9-5c72b7a38618",
   "metadata": {},
   "outputs": [
    {
     "name": "stdout",
     "output_type": "stream",
     "text": [
      "Calculated 200000 prime numbers in 11.61 seconds\n",
      "The 200000th prime was 2750159\n",
      "main.dist/main.bin --n-primes=200_000  11.54s user 0.16s system 98% cpu 11.882 total\n"
     ]
    }
   ],
   "source": [
    "!time main.dist/main.bin --n-primes=200_000"
   ]
  },
  {
   "cell_type": "code",
   "execution_count": null,
   "id": "2fc1fa18-2895-44da-84ce-ef7ccd4b9ffa",
   "metadata": {},
   "outputs": [],
   "source": []
  }
 ],
 "metadata": {
  "kernelspec": {
   "display_name": "Python 3 (ipykernel)",
   "language": "python",
   "name": "python3"
  },
  "language_info": {
   "codemirror_mode": {
    "name": "ipython",
    "version": 3
   },
   "file_extension": ".py",
   "mimetype": "text/x-python",
   "name": "python",
   "nbconvert_exporter": "python",
   "pygments_lexer": "ipython3",
   "version": "3.10.3"
  }
 },
 "nbformat": 4,
 "nbformat_minor": 5
}
